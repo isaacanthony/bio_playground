{
 "cells": [
  {
   "cell_type": "code",
   "execution_count": null,
   "metadata": {},
   "outputs": [],
   "source": [
    "import os\n",
    "import timeit\n",
    "from Bio import AlignIO, SeqIO\n",
    "from Bio.Align.Applications import MuscleCommandline"
   ]
  },
  {
   "cell_type": "code",
   "execution_count": null,
   "metadata": {},
   "outputs": [],
   "source": [
    "# Globals\n",
    "DATA_DIR = '../data'"
   ]
  },
  {
   "cell_type": "code",
   "execution_count": null,
   "metadata": {},
   "outputs": [],
   "source": [
    "# Helpers\n",
    "def run(cmd: any) -> None:\n",
    "    \"\"\"Run os cmd and time execution\"\"\"\n",
    "    start = timeit.default_timer()\n",
    "    os.system(str(cmd))\n",
    "    elapsed = round(timeit.default_timer() - start)\n",
    "    print(f\"Execution Time: {elapsed // 60}m {elapsed % 60}s\")"
   ]
  },
  {
   "cell_type": "code",
   "execution_count": null,
   "metadata": {},
   "outputs": [],
   "source": [
    "# Download\n",
    "run(\n",
    "    'wget -q https://raw.githubusercontent.com/' \\\n",
    "    'nextstrain/ncov/master/example_data/sequences.fasta ' \\\n",
    "    f\"-O {DATA_DIR}/interim/aligned.fasta\"\n",
    ")"
   ]
  },
  {
   "cell_type": "code",
   "execution_count": null,
   "metadata": {},
   "outputs": [],
   "source": [
    "# Align\n",
    "run(\n",
    "    MuscleCommandline(\n",
    "        input=f\"{DATA_DIR}/raw/sequences.fasta\",\n",
    "        out=f\"{DATA_DIR}/data/interim/aligned.fasta\",\n",
    "    )\n",
    ")"
   ]
  },
  {
   "cell_type": "code",
   "execution_count": null,
   "metadata": {},
   "outputs": [],
   "source": [
    "# Import\n",
    "records = AlignIO.read(f\"{DATA_DIR}/interim/aligned.fasta\", 'fasta')"
   ]
  },
  {
   "cell_type": "code",
   "execution_count": null,
   "metadata": {},
   "outputs": [],
   "source": [
    "print(records[0].seq)"
   ]
  },
  {
   "cell_type": "code",
   "execution_count": null,
   "metadata": {},
   "outputs": [],
   "source": []
  }
 ],
 "metadata": {
  "kernelspec": {
   "display_name": "Python 3",
   "language": "python",
   "name": "python3"
  },
  "language_info": {
   "codemirror_mode": {
    "name": "ipython",
    "version": 3
   },
   "file_extension": ".py",
   "mimetype": "text/x-python",
   "name": "python",
   "nbconvert_exporter": "python",
   "pygments_lexer": "ipython3",
   "version": "3.7.6"
  }
 },
 "nbformat": 4,
 "nbformat_minor": 4
}
