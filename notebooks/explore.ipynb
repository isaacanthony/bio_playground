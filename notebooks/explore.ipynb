{
 "cells": [
  {
   "cell_type": "code",
   "execution_count": null,
   "metadata": {},
   "outputs": [],
   "source": [
    "import subprocess\n",
    "import timeit\n",
    "from Bio import Phylo"
   ]
  },
  {
   "cell_type": "code",
   "execution_count": null,
   "metadata": {},
   "outputs": [],
   "source": [
    "# Globals\n",
    "DATA_DIR = '../data'"
   ]
  },
  {
   "cell_type": "code",
   "execution_count": null,
   "metadata": {},
   "outputs": [],
   "source": [
    "# Helpers\n",
    "def run(cmd: list) -> None:\n",
    "    \"\"\"Run os cmd and time execution\"\"\"\n",
    "    start = timeit.default_timer()\n",
    "    result = subprocess.run(args=cmd, capture_output=True)\n",
    "    elapsed = round(timeit.default_timer() - start)\n",
    "    print(f\"Execution Time: {elapsed // 60}m {elapsed % 60}s\")\n",
    "    output = result.stdout if result.stdout else result.stderr\n",
    "    print(output.decode('utf-8'))"
   ]
  },
  {
   "cell_type": "code",
   "execution_count": null,
   "metadata": {},
   "outputs": [],
   "source": [
    "# Download sequences + metadata\n",
    "for file in ['example_data/sequences.fasta', 'data/metadata.tsv']:\n",
    "    print(file)\n",
    "\n",
    "    run([\n",
    "        'wget',\n",
    "        '-q', f\"https://raw.githubusercontent.com/nextstrain/ncov/master/{file}\",\n",
    "        '-O', f\"{DATA_DIR}/raw/{file.split('/')[-1]}\",\n",
    "    ])"
   ]
  },
  {
   "cell_type": "code",
   "execution_count": null,
   "metadata": {},
   "outputs": [],
   "source": [
    "# Align\n",
    "run([\n",
    "    'augur', 'align',\n",
    "    '--sequences', f\"{DATA_DIR}/raw/sequences.fasta\",\n",
    "    '--output', f\"{DATA_DIR}/interim/aligned.fasta\",\n",
    "    '--method', 'mafft',\n",
    "    '--nthreads', 'auto',\n",
    "    '--fill-gaps',\n",
    "])"
   ]
  },
  {
   "cell_type": "code",
   "execution_count": null,
   "metadata": {},
   "outputs": [],
   "source": [
    "# Construct tree\n",
    "run([\n",
    "    'augur', 'tree',\n",
    "    '--alignment', f\"{DATA_DIR}/interim/aligned.fasta\",\n",
    "    '--output', f\"{DATA_DIR}/interim/tree.nwk\",\n",
    "    '--nthreads', 'auto',\n",
    "])"
   ]
  },
  {
   "cell_type": "code",
   "execution_count": null,
   "metadata": {},
   "outputs": [],
   "source": [
    "# Visualize tree\n",
    "tree = Phylo.read(f\"{DATA_DIR}/interim/tree.nwk\", 'newick')\n",
    "Phylo.draw_ascii(tree)"
   ]
  },
  {
   "cell_type": "code",
   "execution_count": null,
   "metadata": {},
   "outputs": [],
   "source": []
  }
 ],
 "metadata": {
  "kernelspec": {
   "display_name": "Python 3",
   "language": "python",
   "name": "python3"
  },
  "language_info": {
   "codemirror_mode": {
    "name": "ipython",
    "version": 3
   },
   "file_extension": ".py",
   "mimetype": "text/x-python",
   "name": "python",
   "nbconvert_exporter": "python",
   "pygments_lexer": "ipython3",
   "version": "3.7.6"
  }
 },
 "nbformat": 4,
 "nbformat_minor": 4
}
